{
 "cells": [
  {
   "cell_type": "code",
   "execution_count": 10,
   "id": "aa58d5ea-2079-4423-a0fb-c4f4b36fe6f2",
   "metadata": {},
   "outputs": [],
   "source": [
    "import json\n",
    "\n",
    "def json_to_text(data):\n",
    "    team_names = list(data['info']['players'].keys())\n",
    "    team1 = team_names[0]\n",
    "    players1 = ', '.join(data['info']['players'][team1])\n",
    "    team2 = team_names[1]\n",
    "    players2 = ', '.join(data['info']['players'][team2])\n",
    "    team1 = team1 + \" (\" + ''.join(word[0].upper() for word in team1.split()) + \")\"\n",
    "    team2 = team2 + \" (\" + ''.join(word[0].upper() for word in team2.split()) + \")\"\n",
    "    outcome_keys = list(data.get('info', {}).get('outcome', {}).get('by', {}).keys())\n",
    "    outcome_description = outcome_keys[0] if outcome_keys else \"\"\n",
    "    player_of_match = data.get('info', {}).get('player_of_match', [None, None])[0]\n",
    "    \n",
    "    text = \"Cricket match played on city \" + str(data.get('info', {}).get('city', None)) + \\\n",
    "           \" on \" + str(data.get('info', {}).get('dates', [None])[0]) + \\\n",
    "           \" in the stadium \" + str(data.get('info', {}).get('venue', None)) + \\\n",
    "           \" between \" + team1 + \\\n",
    "           \" and \" + team2 + \\\n",
    "           \", toss is won by \" + str(data.get('info', {}).get('toss', {}).get('winner', None)) + \\\n",
    "           \" and they have decided to \" + str(data.get('info', {}).get('toss', {}).get('decision', None)) + \\\n",
    "           \". Players for \" + str(team1) + \" are \" + str(players1) + \\\n",
    "           \" and players for \" + str(team2) + \" are \" + str(players2) + \".\" # + \\\n",
    "           # \" Winner of the match is \" + str(data.get('info', {}).get('outcome', {}).get('winner', None)) + \\\n",
    "           # \" by \" + str(data.get('info', {}).get('outcome', {}).get('by', {}).get('runs', \"\")) + \\\n",
    "           # str(data.get('info', {}).get('outcome', {}).get('by', {}).get('wickets', \"\")) + \\\n",
    "           # \" \" + outcome_description + \".\" + \\\n",
    "           # \" Player of the match is \" + str(player_of_match) + \".\"\n",
    "    return text\n",
    "def get_winner(data):\n",
    "    winner_team = str(data.get('info', {}).get('outcome', {}).get('winner', None))\n",
    "    return winner_team\n",
    "def get_teams(data):\n",
    "    teams = data.get('info', {}).get('teams', [])\n",
    "    return teams"
   ]
  },
  {
   "cell_type": "code",
   "execution_count": 11,
   "id": "8491cc71-a28e-4deb-8dc8-894e53e10303",
   "metadata": {},
   "outputs": [],
   "source": [
    "import os\n",
    "\n",
    "def read_json_files(directory):\n",
    "    data = []\n",
    "    for filename in os.listdir(directory):\n",
    "        if filename.endswith('.json'):\n",
    "            filepath = os.path.join(directory, filename)\n",
    "            with open(filepath, 'r') as file:\n",
    "                json_data = json.load(file)\n",
    "                value1 = json_to_text(json_data)\n",
    "                value2 = get_winner(json_data)\n",
    "                value3 = get_teams(json_data)\n",
    "                data.append({'Filename': filename, 'Context': value1, 'Team_1': value3[0] + \" (\" + ''.join(word[0].upper() for word in value3[0].split()) + \")\", 'Team_2': value3[1] + \" (\" + ''.join(word[0].upper() for word in value3[1].split()) + \")\",  \"Winner\": value2 + \" (\" + ''.join(word[0].upper() for word in value2.split()) + \")\"})\n",
    "    return data"
   ]
  },
  {
   "cell_type": "code",
   "execution_count": 12,
   "id": "aa8e422c-bbbb-437c-a05f-5f26b575a924",
   "metadata": {},
   "outputs": [],
   "source": [
    "import csv\n",
    "\n",
    "def write_to_csv(data, output_file):\n",
    "    with open(output_file, 'w', newline='') as csvfile:\n",
    "        fieldnames = ['Filename', 'Context', 'Team_1', 'Team_2', 'Winner']\n",
    "        writer = csv.DictWriter(csvfile, fieldnames=fieldnames)\n",
    "        writer.writeheader()\n",
    "        for row in data:\n",
    "            writer.writerow(row)"
   ]
  },
  {
   "cell_type": "code",
   "execution_count": 13,
   "id": "90dbea77-3fc8-4da9-9622-fcf36cf48161",
   "metadata": {},
   "outputs": [],
   "source": [
    "json_directory = 'ipl_json'\n",
    "csv_output_file = 'context_text_data_updated.csv'"
   ]
  },
  {
   "cell_type": "code",
   "execution_count": 14,
   "id": "e760b46d-a041-488c-b396-41abb9179aa5",
   "metadata": {},
   "outputs": [],
   "source": [
    "data = read_json_files(json_directory)\n",
    "write_to_csv(data, csv_output_file)"
   ]
  },
  {
   "cell_type": "code",
   "execution_count": 15,
   "id": "4793a84a-8e3b-40dc-b1db-cc4901230296",
   "metadata": {},
   "outputs": [
    {
     "data": {
      "text/html": [
       "<div>\n",
       "<style scoped>\n",
       "    .dataframe tbody tr th:only-of-type {\n",
       "        vertical-align: middle;\n",
       "    }\n",
       "\n",
       "    .dataframe tbody tr th {\n",
       "        vertical-align: top;\n",
       "    }\n",
       "\n",
       "    .dataframe thead th {\n",
       "        text-align: right;\n",
       "    }\n",
       "</style>\n",
       "<table border=\"1\" class=\"dataframe\">\n",
       "  <thead>\n",
       "    <tr style=\"text-align: right;\">\n",
       "      <th></th>\n",
       "      <th>Filename</th>\n",
       "      <th>Context</th>\n",
       "      <th>Team_1</th>\n",
       "      <th>Team_2</th>\n",
       "      <th>Winner</th>\n",
       "    </tr>\n",
       "  </thead>\n",
       "  <tbody>\n",
       "    <tr>\n",
       "      <th>0</th>\n",
       "      <td>1426261.json</td>\n",
       "      <td>Cricket match played on city Mohali on 2024-04...</td>\n",
       "      <td>Sunrisers Hyderabad (SH)</td>\n",
       "      <td>Punjab Kings (PK)</td>\n",
       "      <td>Sunrisers Hyderabad (SH)</td>\n",
       "    </tr>\n",
       "    <tr>\n",
       "      <th>1</th>\n",
       "      <td>1359507.json</td>\n",
       "      <td>Cricket match played on city Kolkata on 2023-0...</td>\n",
       "      <td>Chennai Super Kings (CSK)</td>\n",
       "      <td>Kolkata Knight Riders (KKR)</td>\n",
       "      <td>Chennai Super Kings (CSK)</td>\n",
       "    </tr>\n",
       "    <tr>\n",
       "      <th>2</th>\n",
       "      <td>392217.json</td>\n",
       "      <td>Cricket match played on city Kimberley on 2009...</td>\n",
       "      <td>Chennai Super Kings (CSK)</td>\n",
       "      <td>Rajasthan Royals (RR)</td>\n",
       "      <td>Chennai Super Kings (CSK)</td>\n",
       "    </tr>\n",
       "    <tr>\n",
       "      <th>3</th>\n",
       "      <td>1254112.json</td>\n",
       "      <td>Cricket match played on city Sharjah on 2021-1...</td>\n",
       "      <td>Mumbai Indians (MI)</td>\n",
       "      <td>Delhi Capitals (DC)</td>\n",
       "      <td>Delhi Capitals (DC)</td>\n",
       "    </tr>\n",
       "    <tr>\n",
       "      <th>4</th>\n",
       "      <td>829817.json</td>\n",
       "      <td>Cricket match played on city Mumbai on 2015-05...</td>\n",
       "      <td>Chennai Super Kings (CSK)</td>\n",
       "      <td>Mumbai Indians (MI)</td>\n",
       "      <td>Mumbai Indians (MI)</td>\n",
       "    </tr>\n",
       "  </tbody>\n",
       "</table>\n",
       "</div>"
      ],
      "text/plain": [
       "       Filename                                            Context  \\\n",
       "0  1426261.json  Cricket match played on city Mohali on 2024-04...   \n",
       "1  1359507.json  Cricket match played on city Kolkata on 2023-0...   \n",
       "2   392217.json  Cricket match played on city Kimberley on 2009...   \n",
       "3  1254112.json  Cricket match played on city Sharjah on 2021-1...   \n",
       "4   829817.json  Cricket match played on city Mumbai on 2015-05...   \n",
       "\n",
       "                      Team_1                       Team_2  \\\n",
       "0   Sunrisers Hyderabad (SH)            Punjab Kings (PK)   \n",
       "1  Chennai Super Kings (CSK)  Kolkata Knight Riders (KKR)   \n",
       "2  Chennai Super Kings (CSK)        Rajasthan Royals (RR)   \n",
       "3        Mumbai Indians (MI)          Delhi Capitals (DC)   \n",
       "4  Chennai Super Kings (CSK)          Mumbai Indians (MI)   \n",
       "\n",
       "                      Winner  \n",
       "0   Sunrisers Hyderabad (SH)  \n",
       "1  Chennai Super Kings (CSK)  \n",
       "2  Chennai Super Kings (CSK)  \n",
       "3        Delhi Capitals (DC)  \n",
       "4        Mumbai Indians (MI)  "
      ]
     },
     "execution_count": 15,
     "metadata": {},
     "output_type": "execute_result"
    }
   ],
   "source": [
    "import pandas as pd\n",
    "df = pd.read_csv('context_text_data_updated.csv')\n",
    "df.head()"
   ]
  },
  {
   "cell_type": "code",
   "execution_count": 16,
   "id": "57f37327-1d2e-4adb-bc35-765ba071b261",
   "metadata": {},
   "outputs": [
    {
     "data": {
      "text/plain": [
       "'Cricket match played on city Delhi on 2008-05-17 in the stadium Feroz Shah Kotla between Delhi Daredevils (DD) and Kings XI Punjab (KXP), toss is won by Delhi Daredevils and they have decided to bat. Players for Delhi Daredevils (DD) are G Gambhir, V Sehwag, S Dhawan, TM Dilshan, MF Maharoof, Shoaib Malik, PJ Sangwan, KD Karthik, A Mishra, R Bhatia, GD McGrath and players for Kings XI Punjab (KXP) are SE Marsh, JR Hopes, Yuvraj Singh, LA Pomersbach, DPMD Jayawardene, IK Pathan, RR Powar, PP Chawla, U Kaul, S Sreesanth, VRV Singh.'"
      ]
     },
     "execution_count": 16,
     "metadata": {},
     "output_type": "execute_result"
    }
   ],
   "source": [
    "df['Context'][5]"
   ]
  },
  {
   "cell_type": "code",
   "execution_count": null,
   "id": "3710ef8f-71a2-4781-b895-5e0f6315fba2",
   "metadata": {},
   "outputs": [],
   "source": []
  },
  {
   "cell_type": "code",
   "execution_count": null,
   "id": "cf06163b-fe5d-4ddd-b0d1-f88653f509eb",
   "metadata": {},
   "outputs": [],
   "source": []
  }
 ],
 "metadata": {
  "kernelspec": {
   "display_name": "Python 3 (ipykernel)",
   "language": "python",
   "name": "python3"
  },
  "language_info": {
   "codemirror_mode": {
    "name": "ipython",
    "version": 3
   },
   "file_extension": ".py",
   "mimetype": "text/x-python",
   "name": "python",
   "nbconvert_exporter": "python",
   "pygments_lexer": "ipython3",
   "version": "3.11.7"
  }
 },
 "nbformat": 4,
 "nbformat_minor": 5
}
