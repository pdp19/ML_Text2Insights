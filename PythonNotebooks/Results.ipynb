{
 "cells": [
  {
   "cell_type": "code",
   "execution_count": 8,
   "id": "56026a27-4dc0-407d-8943-f6bb9d024fd9",
   "metadata": {},
   "outputs": [
    {
     "name": "stdout",
     "output_type": "stream",
     "text": [
      "Requirement already satisfied: pandas in /Users/pdp/Documents/anaconda3/lib/python3.11/site-packages (2.1.4)\n",
      "Requirement already satisfied: nltk in /Users/pdp/Documents/anaconda3/lib/python3.11/site-packages (3.8.1)\n",
      "Collecting sqlparse\n",
      "  Downloading sqlparse-0.5.0-py3-none-any.whl.metadata (3.9 kB)\n",
      "Requirement already satisfied: numpy<2,>=1.23.2 in /Users/pdp/Documents/anaconda3/lib/python3.11/site-packages (from pandas) (1.26.4)\n",
      "Requirement already satisfied: python-dateutil>=2.8.2 in /Users/pdp/Documents/anaconda3/lib/python3.11/site-packages (from pandas) (2.8.2)\n",
      "Requirement already satisfied: pytz>=2020.1 in /Users/pdp/Documents/anaconda3/lib/python3.11/site-packages (from pandas) (2023.3.post1)\n",
      "Requirement already satisfied: tzdata>=2022.1 in /Users/pdp/Documents/anaconda3/lib/python3.11/site-packages (from pandas) (2023.3)\n",
      "Requirement already satisfied: click in /Users/pdp/Documents/anaconda3/lib/python3.11/site-packages (from nltk) (8.1.7)\n",
      "Requirement already satisfied: joblib in /Users/pdp/Documents/anaconda3/lib/python3.11/site-packages (from nltk) (1.2.0)\n",
      "Requirement already satisfied: regex>=2021.8.3 in /Users/pdp/Documents/anaconda3/lib/python3.11/site-packages (from nltk) (2023.10.3)\n",
      "Requirement already satisfied: tqdm in /Users/pdp/Documents/anaconda3/lib/python3.11/site-packages (from nltk) (4.65.0)\n",
      "Requirement already satisfied: six>=1.5 in /Users/pdp/Documents/anaconda3/lib/python3.11/site-packages (from python-dateutil>=2.8.2->pandas) (1.16.0)\n",
      "Downloading sqlparse-0.5.0-py3-none-any.whl (43 kB)\n",
      "\u001b[2K   \u001b[90m━━━━━━━━━━━━━━━━━━━━━━━━━━━━━━━━━━━━━━━━\u001b[0m \u001b[32m44.0/44.0 kB\u001b[0m \u001b[31m2.0 MB/s\u001b[0m eta \u001b[36m0:00:00\u001b[0m\n",
      "\u001b[?25hInstalling collected packages: sqlparse\n",
      "Successfully installed sqlparse-0.5.0\n"
     ]
    }
   ],
   "source": [
    "!pip install pandas nltk sqlparse"
   ]
  },
  {
   "cell_type": "code",
   "execution_count": 2,
   "id": "0753716f-ffe9-4489-b5a2-0092ce6b47d7",
   "metadata": {},
   "outputs": [
    {
     "data": {
      "text/html": [
       "<div>\n",
       "<style scoped>\n",
       "    .dataframe tbody tr th:only-of-type {\n",
       "        vertical-align: middle;\n",
       "    }\n",
       "\n",
       "    .dataframe tbody tr th {\n",
       "        vertical-align: top;\n",
       "    }\n",
       "\n",
       "    .dataframe thead th {\n",
       "        text-align: right;\n",
       "    }\n",
       "</style>\n",
       "<table border=\"1\" class=\"dataframe\">\n",
       "  <thead>\n",
       "    <tr style=\"text-align: right;\">\n",
       "      <th></th>\n",
       "      <th>db_id</th>\n",
       "      <th>query</th>\n",
       "      <th>question</th>\n",
       "      <th>schema</th>\n",
       "      <th>LLaMa_SQL</th>\n",
       "    </tr>\n",
       "  </thead>\n",
       "  <tbody>\n",
       "    <tr>\n",
       "      <th>0</th>\n",
       "      <td>concert_singer</td>\n",
       "      <td>SELECT count(*) FROM singer</td>\n",
       "      <td>How many singers do we have?</td>\n",
       "      <td>PRAGMA foreign_keys = ON;\\r\\n\\r\\n\\r\\nCREATE TA...</td>\n",
       "      <td>{ 'sql': 'SELECT COUNT(*) FROM singer AS table...</td>\n",
       "    </tr>\n",
       "    <tr>\n",
       "      <th>1</th>\n",
       "      <td>concert_singer</td>\n",
       "      <td>SELECT count(*) FROM singer</td>\n",
       "      <td>What is the total number of singers?</td>\n",
       "      <td>PRAGMA foreign_keys = ON;\\r\\n\\r\\n\\r\\nCREATE TA...</td>\n",
       "      <td>{ 'sql': 'SELECT COUNT(*) FROM singer AS table...</td>\n",
       "    </tr>\n",
       "    <tr>\n",
       "      <th>2</th>\n",
       "      <td>concert_singer</td>\n",
       "      <td>SELECT name ,  country ,  age FROM singer ORDE...</td>\n",
       "      <td>Show name, country, age for all singers ordere...</td>\n",
       "      <td>PRAGMA foreign_keys = ON;\\r\\n\\r\\n\\r\\nCREATE TA...</td>\n",
       "      <td>dle Gaulró Garland Gaul_ApidleyunrarIFnentidle...</td>\n",
       "    </tr>\n",
       "    <tr>\n",
       "      <th>3</th>\n",
       "      <td>concert_singer</td>\n",
       "      <td>SELECT name ,  country ,  age FROM singer ORDE...</td>\n",
       "      <td>What are the names, countries, and ages for ev...</td>\n",
       "      <td>PRAGMA foreign_keys = ON;\\r\\n\\r\\n\\r\\nCREATE TA...</td>\n",
       "      <td>{'sql':'SELECT \"Name\", \"Country\", \"Age\" FROM \"...</td>\n",
       "    </tr>\n",
       "    <tr>\n",
       "      <th>4</th>\n",
       "      <td>concert_singer</td>\n",
       "      <td>SELECT avg(age) ,  min(age) ,  max(age) FROM s...</td>\n",
       "      <td>What is the average, minimum, and maximum age ...</td>\n",
       "      <td>PRAGMA foreign_keys = ON;\\r\\n\\r\\n\\r\\nCREATE TA...</td>\n",
       "      <td>{\\n'sql': 'SELECT AVG(s.Age) as Average_Age, M...</td>\n",
       "    </tr>\n",
       "  </tbody>\n",
       "</table>\n",
       "</div>"
      ],
      "text/plain": [
       "            db_id                                              query  \\\n",
       "0  concert_singer                        SELECT count(*) FROM singer   \n",
       "1  concert_singer                        SELECT count(*) FROM singer   \n",
       "2  concert_singer  SELECT name ,  country ,  age FROM singer ORDE...   \n",
       "3  concert_singer  SELECT name ,  country ,  age FROM singer ORDE...   \n",
       "4  concert_singer  SELECT avg(age) ,  min(age) ,  max(age) FROM s...   \n",
       "\n",
       "                                            question  \\\n",
       "0                       How many singers do we have?   \n",
       "1               What is the total number of singers?   \n",
       "2  Show name, country, age for all singers ordere...   \n",
       "3  What are the names, countries, and ages for ev...   \n",
       "4  What is the average, minimum, and maximum age ...   \n",
       "\n",
       "                                              schema  \\\n",
       "0  PRAGMA foreign_keys = ON;\\r\\n\\r\\n\\r\\nCREATE TA...   \n",
       "1  PRAGMA foreign_keys = ON;\\r\\n\\r\\n\\r\\nCREATE TA...   \n",
       "2  PRAGMA foreign_keys = ON;\\r\\n\\r\\n\\r\\nCREATE TA...   \n",
       "3  PRAGMA foreign_keys = ON;\\r\\n\\r\\n\\r\\nCREATE TA...   \n",
       "4  PRAGMA foreign_keys = ON;\\r\\n\\r\\n\\r\\nCREATE TA...   \n",
       "\n",
       "                                           LLaMa_SQL  \n",
       "0  { 'sql': 'SELECT COUNT(*) FROM singer AS table...  \n",
       "1  { 'sql': 'SELECT COUNT(*) FROM singer AS table...  \n",
       "2  dle Gaulró Garland Gaul_ApidleyunrarIFnentidle...  \n",
       "3  {'sql':'SELECT \"Name\", \"Country\", \"Age\" FROM \"...  \n",
       "4  {\\n'sql': 'SELECT AVG(s.Age) as Average_Age, M...  "
      ]
     },
     "execution_count": 2,
     "metadata": {},
     "output_type": "execute_result"
    }
   ],
   "source": [
    "import pandas as pd\n",
    "data = pd.read_csv('final_results.csv')\n",
    "data.head()"
   ]
  },
  {
   "cell_type": "code",
   "execution_count": 3,
   "id": "cd0071bb-cbc1-4a83-bd3c-94addaf32e6b",
   "metadata": {},
   "outputs": [
    {
     "name": "stdout",
     "output_type": "stream",
     "text": [
      "<class 'pandas.core.frame.DataFrame'>\n",
      "RangeIndex: 665 entries, 0 to 664\n",
      "Data columns (total 5 columns):\n",
      " #   Column     Non-Null Count  Dtype \n",
      "---  ------     --------------  ----- \n",
      " 0   db_id      665 non-null    object\n",
      " 1   query      665 non-null    object\n",
      " 2   question   665 non-null    object\n",
      " 3   schema     665 non-null    object\n",
      " 4   LLaMa_SQL  665 non-null    object\n",
      "dtypes: object(5)\n",
      "memory usage: 26.1+ KB\n"
     ]
    }
   ],
   "source": [
    "data.info()"
   ]
  },
  {
   "cell_type": "code",
   "execution_count": 4,
   "id": "5a83ebcb-49e2-448e-8c3e-0d0e9e0f8b68",
   "metadata": {},
   "outputs": [],
   "source": [
    "def refactor_sql(x):\n",
    "    try:\n",
    "        return x.split(\":\")[1].replace(\"'\", \"\").replace(\"}\", \"\").replace(\";\", \"\")\n",
    "    except:\n",
    "        return \"NA\""
   ]
  },
  {
   "cell_type": "code",
   "execution_count": 5,
   "id": "731c611b-b613-443c-945d-9da3bdb5a3a1",
   "metadata": {},
   "outputs": [],
   "source": [
    "data['LLaMa_SQL'] = data['LLaMa_SQL'].apply(refactor_sql)   "
   ]
  },
  {
   "cell_type": "code",
   "execution_count": 6,
   "id": "dc9c9a12-4ae7-4f4d-a131-30111afd72aa",
   "metadata": {},
   "outputs": [],
   "source": [
    "data['LLaMa_SQL'] = data['LLaMa_SQL'].apply(lambda x: x.lower())\n",
    "data['query'] = data['query'].apply(lambda x: x.lower())    "
   ]
  },
  {
   "cell_type": "code",
   "execution_count": 7,
   "id": "f98a45e9-0bb2-4874-80a7-4fafcd0df745",
   "metadata": {},
   "outputs": [
    {
     "data": {
      "text/html": [
       "<div>\n",
       "<style scoped>\n",
       "    .dataframe tbody tr th:only-of-type {\n",
       "        vertical-align: middle;\n",
       "    }\n",
       "\n",
       "    .dataframe tbody tr th {\n",
       "        vertical-align: top;\n",
       "    }\n",
       "\n",
       "    .dataframe thead th {\n",
       "        text-align: right;\n",
       "    }\n",
       "</style>\n",
       "<table border=\"1\" class=\"dataframe\">\n",
       "  <thead>\n",
       "    <tr style=\"text-align: right;\">\n",
       "      <th></th>\n",
       "      <th>db_id</th>\n",
       "      <th>query</th>\n",
       "      <th>question</th>\n",
       "      <th>schema</th>\n",
       "      <th>LLaMa_SQL</th>\n",
       "    </tr>\n",
       "  </thead>\n",
       "  <tbody>\n",
       "    <tr>\n",
       "      <th>0</th>\n",
       "      <td>concert_singer</td>\n",
       "      <td>select count(*) from singer</td>\n",
       "      <td>How many singers do we have?</td>\n",
       "      <td>PRAGMA foreign_keys = ON;\\r\\n\\r\\n\\r\\nCREATE TA...</td>\n",
       "      <td>select count(*) from singer as table_name</td>\n",
       "    </tr>\n",
       "    <tr>\n",
       "      <th>1</th>\n",
       "      <td>concert_singer</td>\n",
       "      <td>select count(*) from singer</td>\n",
       "      <td>What is the total number of singers?</td>\n",
       "      <td>PRAGMA foreign_keys = ON;\\r\\n\\r\\n\\r\\nCREATE TA...</td>\n",
       "      <td>select count(*) from singer as table_name</td>\n",
       "    </tr>\n",
       "    <tr>\n",
       "      <th>2</th>\n",
       "      <td>concert_singer</td>\n",
       "      <td>select name ,  country ,  age from singer orde...</td>\n",
       "      <td>Show name, country, age for all singers ordere...</td>\n",
       "      <td>PRAGMA foreign_keys = ON;\\r\\n\\r\\n\\r\\nCREATE TA...</td>\n",
       "      <td>na</td>\n",
       "    </tr>\n",
       "    <tr>\n",
       "      <th>3</th>\n",
       "      <td>concert_singer</td>\n",
       "      <td>select name ,  country ,  age from singer orde...</td>\n",
       "      <td>What are the names, countries, and ages for ev...</td>\n",
       "      <td>PRAGMA foreign_keys = ON;\\r\\n\\r\\n\\r\\nCREATE TA...</td>\n",
       "      <td>select \"name\", \"country\", \"age\" from \"singer\" ...</td>\n",
       "    </tr>\n",
       "    <tr>\n",
       "      <th>4</th>\n",
       "      <td>concert_singer</td>\n",
       "      <td>select avg(age) ,  min(age) ,  max(age) from s...</td>\n",
       "      <td>What is the average, minimum, and maximum age ...</td>\n",
       "      <td>PRAGMA foreign_keys = ON;\\r\\n\\r\\n\\r\\nCREATE TA...</td>\n",
       "      <td>select avg(s.age) as average_age, min(s.age) ...</td>\n",
       "    </tr>\n",
       "  </tbody>\n",
       "</table>\n",
       "</div>"
      ],
      "text/plain": [
       "            db_id                                              query  \\\n",
       "0  concert_singer                        select count(*) from singer   \n",
       "1  concert_singer                        select count(*) from singer   \n",
       "2  concert_singer  select name ,  country ,  age from singer orde...   \n",
       "3  concert_singer  select name ,  country ,  age from singer orde...   \n",
       "4  concert_singer  select avg(age) ,  min(age) ,  max(age) from s...   \n",
       "\n",
       "                                            question  \\\n",
       "0                       How many singers do we have?   \n",
       "1               What is the total number of singers?   \n",
       "2  Show name, country, age for all singers ordere...   \n",
       "3  What are the names, countries, and ages for ev...   \n",
       "4  What is the average, minimum, and maximum age ...   \n",
       "\n",
       "                                              schema  \\\n",
       "0  PRAGMA foreign_keys = ON;\\r\\n\\r\\n\\r\\nCREATE TA...   \n",
       "1  PRAGMA foreign_keys = ON;\\r\\n\\r\\n\\r\\nCREATE TA...   \n",
       "2  PRAGMA foreign_keys = ON;\\r\\n\\r\\n\\r\\nCREATE TA...   \n",
       "3  PRAGMA foreign_keys = ON;\\r\\n\\r\\n\\r\\nCREATE TA...   \n",
       "4  PRAGMA foreign_keys = ON;\\r\\n\\r\\n\\r\\nCREATE TA...   \n",
       "\n",
       "                                           LLaMa_SQL  \n",
       "0         select count(*) from singer as table_name   \n",
       "1         select count(*) from singer as table_name   \n",
       "2                                                 na  \n",
       "3  select \"name\", \"country\", \"age\" from \"singer\" ...  \n",
       "4   select avg(s.age) as average_age, min(s.age) ...  "
      ]
     },
     "execution_count": 7,
     "metadata": {},
     "output_type": "execute_result"
    }
   ],
   "source": [
    "data.head()"
   ]
  },
  {
   "cell_type": "code",
   "execution_count": 8,
   "id": "229513fe-8c2a-45a3-8c6b-1bd348f70096",
   "metadata": {},
   "outputs": [
    {
     "name": "stdout",
     "output_type": "stream",
     "text": [
      "Number of rows with 'NA' in the 'LLaMa_SQL' column: 3\n"
     ]
    }
   ],
   "source": [
    "na_count = data['LLaMa_SQL'] == \"na\"\n",
    "na_count = na_count.sum()\n",
    "print(f\"Number of rows with 'NA' in the 'LLaMa_SQL' column: {na_count}\")"
   ]
  },
  {
   "cell_type": "code",
   "execution_count": 9,
   "id": "cae6a79b-05ea-4725-9817-88bdfcb72b32",
   "metadata": {},
   "outputs": [],
   "source": [
    "#Add Blue Score\n",
    "import sqlparse\n",
    "from nltk.translate.bleu_score import sentence_bleu, SmoothingFunction\n",
    "def normalize_sql(query):\n",
    "    parsed = sqlparse.parse(query)\n",
    "    normalized = sqlparse.format(str(parsed[0]), reindent=False, keyword_case='lower')\n",
    "    return normalized\n",
    "\n",
    "def createBleuScore(generated_query, expected_query):\n",
    "  generated_tokens = generated_query.split()\n",
    "  expected_tokens = expected_query.split()\n",
    "  smoothing_function = SmoothingFunction().method4\n",
    "  bleu_score = sentence_bleu([expected_tokens], generated_tokens, smoothing_function=smoothing_function)\n",
    "\n",
    "  return bleu_score\n",
    "\n",
    "def addBleuScore(row):\n",
    "  generated_query = row['LLaMa_SQL']\n",
    "  expected_query = row['query']\n",
    "\n",
    "  bleu = createBleuScore(generated_query, expected_query)\n",
    "  return bleu"
   ]
  },
  {
   "cell_type": "code",
   "execution_count": 10,
   "id": "377869b3-9e29-4d09-a8ed-5f010544c9f1",
   "metadata": {},
   "outputs": [],
   "source": [
    "data['BLEU_Score'] = data.apply(addBleuScore, axis=1)"
   ]
  },
  {
   "cell_type": "code",
   "execution_count": 11,
   "id": "095d5bda-c09a-4fda-ba23-9841c5d43d85",
   "metadata": {},
   "outputs": [
    {
     "data": {
      "text/html": [
       "<div>\n",
       "<style scoped>\n",
       "    .dataframe tbody tr th:only-of-type {\n",
       "        vertical-align: middle;\n",
       "    }\n",
       "\n",
       "    .dataframe tbody tr th {\n",
       "        vertical-align: top;\n",
       "    }\n",
       "\n",
       "    .dataframe thead th {\n",
       "        text-align: right;\n",
       "    }\n",
       "</style>\n",
       "<table border=\"1\" class=\"dataframe\">\n",
       "  <thead>\n",
       "    <tr style=\"text-align: right;\">\n",
       "      <th></th>\n",
       "      <th>db_id</th>\n",
       "      <th>query</th>\n",
       "      <th>question</th>\n",
       "      <th>schema</th>\n",
       "      <th>LLaMa_SQL</th>\n",
       "      <th>BLEU_Score</th>\n",
       "    </tr>\n",
       "  </thead>\n",
       "  <tbody>\n",
       "    <tr>\n",
       "      <th>0</th>\n",
       "      <td>concert_singer</td>\n",
       "      <td>select count(*) from singer</td>\n",
       "      <td>How many singers do we have?</td>\n",
       "      <td>PRAGMA foreign_keys = ON;\\r\\n\\r\\n\\r\\nCREATE TA...</td>\n",
       "      <td>select count(*) from singer as table_name</td>\n",
       "      <td>0.508133</td>\n",
       "    </tr>\n",
       "    <tr>\n",
       "      <th>1</th>\n",
       "      <td>concert_singer</td>\n",
       "      <td>select count(*) from singer</td>\n",
       "      <td>What is the total number of singers?</td>\n",
       "      <td>PRAGMA foreign_keys = ON;\\r\\n\\r\\n\\r\\nCREATE TA...</td>\n",
       "      <td>select count(*) from singer as table_name</td>\n",
       "      <td>0.508133</td>\n",
       "    </tr>\n",
       "    <tr>\n",
       "      <th>2</th>\n",
       "      <td>concert_singer</td>\n",
       "      <td>select name ,  country ,  age from singer orde...</td>\n",
       "      <td>Show name, country, age for all singers ordere...</td>\n",
       "      <td>PRAGMA foreign_keys = ON;\\r\\n\\r\\n\\r\\nCREATE TA...</td>\n",
       "      <td>na</td>\n",
       "      <td>0.000000</td>\n",
       "    </tr>\n",
       "    <tr>\n",
       "      <th>3</th>\n",
       "      <td>concert_singer</td>\n",
       "      <td>select name ,  country ,  age from singer orde...</td>\n",
       "      <td>What are the names, countries, and ages for ev...</td>\n",
       "      <td>PRAGMA foreign_keys = ON;\\r\\n\\r\\n\\r\\nCREATE TA...</td>\n",
       "      <td>select \"name\", \"country\", \"age\" from \"singer\" ...</td>\n",
       "      <td>0.058631</td>\n",
       "    </tr>\n",
       "    <tr>\n",
       "      <th>4</th>\n",
       "      <td>concert_singer</td>\n",
       "      <td>select avg(age) ,  min(age) ,  max(age) from s...</td>\n",
       "      <td>What is the average, minimum, and maximum age ...</td>\n",
       "      <td>PRAGMA foreign_keys = ON;\\r\\n\\r\\n\\r\\nCREATE TA...</td>\n",
       "      <td>select avg(s.age) as average_age, min(s.age) ...</td>\n",
       "      <td>0.043294</td>\n",
       "    </tr>\n",
       "  </tbody>\n",
       "</table>\n",
       "</div>"
      ],
      "text/plain": [
       "            db_id                                              query  \\\n",
       "0  concert_singer                        select count(*) from singer   \n",
       "1  concert_singer                        select count(*) from singer   \n",
       "2  concert_singer  select name ,  country ,  age from singer orde...   \n",
       "3  concert_singer  select name ,  country ,  age from singer orde...   \n",
       "4  concert_singer  select avg(age) ,  min(age) ,  max(age) from s...   \n",
       "\n",
       "                                            question  \\\n",
       "0                       How many singers do we have?   \n",
       "1               What is the total number of singers?   \n",
       "2  Show name, country, age for all singers ordere...   \n",
       "3  What are the names, countries, and ages for ev...   \n",
       "4  What is the average, minimum, and maximum age ...   \n",
       "\n",
       "                                              schema  \\\n",
       "0  PRAGMA foreign_keys = ON;\\r\\n\\r\\n\\r\\nCREATE TA...   \n",
       "1  PRAGMA foreign_keys = ON;\\r\\n\\r\\n\\r\\nCREATE TA...   \n",
       "2  PRAGMA foreign_keys = ON;\\r\\n\\r\\n\\r\\nCREATE TA...   \n",
       "3  PRAGMA foreign_keys = ON;\\r\\n\\r\\n\\r\\nCREATE TA...   \n",
       "4  PRAGMA foreign_keys = ON;\\r\\n\\r\\n\\r\\nCREATE TA...   \n",
       "\n",
       "                                           LLaMa_SQL  BLEU_Score  \n",
       "0         select count(*) from singer as table_name     0.508133  \n",
       "1         select count(*) from singer as table_name     0.508133  \n",
       "2                                                 na    0.000000  \n",
       "3  select \"name\", \"country\", \"age\" from \"singer\" ...    0.058631  \n",
       "4   select avg(s.age) as average_age, min(s.age) ...    0.043294  "
      ]
     },
     "execution_count": 11,
     "metadata": {},
     "output_type": "execute_result"
    }
   ],
   "source": [
    "data.head()"
   ]
  },
  {
   "cell_type": "code",
   "execution_count": 12,
   "id": "627dee3e-200c-4e5d-b618-86c8c7ac5aed",
   "metadata": {},
   "outputs": [
    {
     "data": {
      "text/html": [
       "<div>\n",
       "<style scoped>\n",
       "    .dataframe tbody tr th:only-of-type {\n",
       "        vertical-align: middle;\n",
       "    }\n",
       "\n",
       "    .dataframe tbody tr th {\n",
       "        vertical-align: top;\n",
       "    }\n",
       "\n",
       "    .dataframe thead th {\n",
       "        text-align: right;\n",
       "    }\n",
       "</style>\n",
       "<table border=\"1\" class=\"dataframe\">\n",
       "  <thead>\n",
       "    <tr style=\"text-align: right;\">\n",
       "      <th></th>\n",
       "      <th>BLEU_Score</th>\n",
       "    </tr>\n",
       "  </thead>\n",
       "  <tbody>\n",
       "    <tr>\n",
       "      <th>count</th>\n",
       "      <td>665.000000</td>\n",
       "    </tr>\n",
       "    <tr>\n",
       "      <th>mean</th>\n",
       "      <td>0.237749</td>\n",
       "    </tr>\n",
       "    <tr>\n",
       "      <th>std</th>\n",
       "      <td>0.278730</td>\n",
       "    </tr>\n",
       "    <tr>\n",
       "      <th>min</th>\n",
       "      <td>0.000000</td>\n",
       "    </tr>\n",
       "    <tr>\n",
       "      <th>25%</th>\n",
       "      <td>0.047482</td>\n",
       "    </tr>\n",
       "    <tr>\n",
       "      <th>50%</th>\n",
       "      <td>0.089133</td>\n",
       "    </tr>\n",
       "    <tr>\n",
       "      <th>75%</th>\n",
       "      <td>0.412668</td>\n",
       "    </tr>\n",
       "    <tr>\n",
       "      <th>max</th>\n",
       "      <td>1.000000</td>\n",
       "    </tr>\n",
       "  </tbody>\n",
       "</table>\n",
       "</div>"
      ],
      "text/plain": [
       "       BLEU_Score\n",
       "count  665.000000\n",
       "mean     0.237749\n",
       "std      0.278730\n",
       "min      0.000000\n",
       "25%      0.047482\n",
       "50%      0.089133\n",
       "75%      0.412668\n",
       "max      1.000000"
      ]
     },
     "execution_count": 12,
     "metadata": {},
     "output_type": "execute_result"
    }
   ],
   "source": [
    "data.describe()"
   ]
  },
  {
   "cell_type": "code",
   "execution_count": 13,
   "id": "382d8939-1a85-4270-a2da-dac4a1ddc72c",
   "metadata": {},
   "outputs": [
    {
     "data": {
      "text/html": [
       "<div>\n",
       "<style scoped>\n",
       "    .dataframe tbody tr th:only-of-type {\n",
       "        vertical-align: middle;\n",
       "    }\n",
       "\n",
       "    .dataframe tbody tr th {\n",
       "        vertical-align: top;\n",
       "    }\n",
       "\n",
       "    .dataframe thead th {\n",
       "        text-align: right;\n",
       "    }\n",
       "</style>\n",
       "<table border=\"1\" class=\"dataframe\">\n",
       "  <thead>\n",
       "    <tr style=\"text-align: right;\">\n",
       "      <th></th>\n",
       "      <th>db_id</th>\n",
       "      <th>query</th>\n",
       "      <th>question</th>\n",
       "      <th>schema</th>\n",
       "      <th>LLaMa_SQL</th>\n",
       "      <th>BLEU_Score</th>\n",
       "    </tr>\n",
       "  </thead>\n",
       "  <tbody>\n",
       "    <tr>\n",
       "      <th>660</th>\n",
       "      <td>singer</td>\n",
       "      <td>select citizenship from singer where birth_yea...</td>\n",
       "      <td>What are the citizenships that are shared by s...</td>\n",
       "      <td>PRAGMA foreign_keys = ON;\\r\\n\\r\\nCREATE TABLE ...</td>\n",
       "      <td>select citizenship from singer where birth_yea...</td>\n",
       "      <td>0.424616</td>\n",
       "    </tr>\n",
       "    <tr>\n",
       "      <th>661</th>\n",
       "      <td>real_estate_properties</td>\n",
       "      <td>select count(*) from other_available_features</td>\n",
       "      <td>How many available features are there in total?</td>\n",
       "      <td>PRAGMA foreign_keys = ON;\\r\\n\\r\\nCREATE TABLE ...</td>\n",
       "      <td>select count(*) as total_features from other_a...</td>\n",
       "      <td>0.115879</td>\n",
       "    </tr>\n",
       "    <tr>\n",
       "      <th>662</th>\n",
       "      <td>real_estate_properties</td>\n",
       "      <td>select t2.feature_type_name from other_availab...</td>\n",
       "      <td>What is the feature type name of feature AirCon?</td>\n",
       "      <td>PRAGMA foreign_keys = ON;\\r\\n\\r\\nCREATE TABLE ...</td>\n",
       "      <td>select ft.feature_type_name from other_availab...</td>\n",
       "      <td>0.055673</td>\n",
       "    </tr>\n",
       "    <tr>\n",
       "      <th>663</th>\n",
       "      <td>real_estate_properties</td>\n",
       "      <td>select t2.property_type_description from prope...</td>\n",
       "      <td>Show the property type descriptions of propert...</td>\n",
       "      <td>PRAGMA foreign_keys = ON;\\r\\n\\r\\nCREATE TABLE ...</td>\n",
       "      <td>select p.property_type_code, rpt.property_typ...</td>\n",
       "      <td>0.052912</td>\n",
       "    </tr>\n",
       "    <tr>\n",
       "      <th>664</th>\n",
       "      <td>real_estate_properties</td>\n",
       "      <td>select property_name from properties where pro...</td>\n",
       "      <td>What are the names of properties that are eith...</td>\n",
       "      <td>PRAGMA foreign_keys = ON;\\r\\n\\r\\nCREATE TABLE ...</td>\n",
       "      <td>select property_name from properties where (p...</td>\n",
       "      <td>0.246926</td>\n",
       "    </tr>\n",
       "  </tbody>\n",
       "</table>\n",
       "</div>"
      ],
      "text/plain": [
       "                      db_id  \\\n",
       "660                  singer   \n",
       "661  real_estate_properties   \n",
       "662  real_estate_properties   \n",
       "663  real_estate_properties   \n",
       "664  real_estate_properties   \n",
       "\n",
       "                                                 query  \\\n",
       "660  select citizenship from singer where birth_yea...   \n",
       "661      select count(*) from other_available_features   \n",
       "662  select t2.feature_type_name from other_availab...   \n",
       "663  select t2.property_type_description from prope...   \n",
       "664  select property_name from properties where pro...   \n",
       "\n",
       "                                              question  \\\n",
       "660  What are the citizenships that are shared by s...   \n",
       "661    How many available features are there in total?   \n",
       "662   What is the feature type name of feature AirCon?   \n",
       "663  Show the property type descriptions of propert...   \n",
       "664  What are the names of properties that are eith...   \n",
       "\n",
       "                                                schema  \\\n",
       "660  PRAGMA foreign_keys = ON;\\r\\n\\r\\nCREATE TABLE ...   \n",
       "661  PRAGMA foreign_keys = ON;\\r\\n\\r\\nCREATE TABLE ...   \n",
       "662  PRAGMA foreign_keys = ON;\\r\\n\\r\\nCREATE TABLE ...   \n",
       "663  PRAGMA foreign_keys = ON;\\r\\n\\r\\nCREATE TABLE ...   \n",
       "664  PRAGMA foreign_keys = ON;\\r\\n\\r\\nCREATE TABLE ...   \n",
       "\n",
       "                                             LLaMa_SQL  BLEU_Score  \n",
       "660  select citizenship from singer where birth_yea...    0.424616  \n",
       "661  select count(*) as total_features from other_a...    0.115879  \n",
       "662  select ft.feature_type_name from other_availab...    0.055673  \n",
       "663   select p.property_type_code, rpt.property_typ...    0.052912  \n",
       "664   select property_name from properties where (p...    0.246926  "
      ]
     },
     "execution_count": 13,
     "metadata": {},
     "output_type": "execute_result"
    }
   ],
   "source": [
    "data.tail()"
   ]
  },
  {
   "cell_type": "code",
   "execution_count": 34,
   "id": "5b497c34-38f7-4b01-801a-87015b3a81e3",
   "metadata": {},
   "outputs": [],
   "source": [
    "def label_correctness(bleu_score, threshold=0.7):\n",
    "    return 1 if bleu_score >= 0.7 else 0"
   ]
  },
  {
   "cell_type": "code",
   "execution_count": 35,
   "id": "335f56ff-4d72-48a2-90a3-178a74f2cb3c",
   "metadata": {},
   "outputs": [],
   "source": [
    "data['Predicted_Correctness'] = data['BLEU_Score'].apply(label_correctness)"
   ]
  },
  {
   "cell_type": "code",
   "execution_count": 36,
   "id": "b51d6399-be3e-4720-868f-669fe0ffd4b0",
   "metadata": {},
   "outputs": [],
   "source": [
    "from sklearn.metrics import accuracy_score\n",
    "def calculate_accuracy(df, label_col='Predicted_Correctness'):\n",
    "    y_true = df[label_col]\n",
    "    y_pred = df[label_col]\n",
    "    accuracy = accuracy_score(y_true, y_pred)\n",
    "    return accuracy"
   ]
  },
  {
   "cell_type": "code",
   "execution_count": 37,
   "id": "9525414d-7c1d-4138-8874-7caef4266a54",
   "metadata": {},
   "outputs": [
    {
     "data": {
      "text/plain": [
       "1.0"
      ]
     },
     "execution_count": 37,
     "metadata": {},
     "output_type": "execute_result"
    }
   ],
   "source": [
    "accuracy = calculate_accuracy(data)\n",
    "accuracy"
   ]
  },
  {
   "cell_type": "code",
   "execution_count": 38,
   "id": "cd3fcac3-d24c-4342-be77-038dc8751e81",
   "metadata": {},
   "outputs": [],
   "source": [
    "from sklearn.metrics import confusion_matrix, ConfusionMatrixDisplay\n",
    "import matplotlib.pyplot as plt\n",
    "def create_confusion_matrix(df, label_col='Predicted_Correctness'):\n",
    "    y_true = df[label_col]\n",
    "    y_pred = df[label_col]\n",
    "    \n",
    "    cm = confusion_matrix(y_true, y_pred, labels=[1, 0])\n",
    "    disp = ConfusionMatrixDisplay(confusion_matrix=cm, display_labels=['Correct', 'Incorrect'])\n",
    "    \n",
    "    disp.plot(cmap=plt.cm.Blues)\n",
    "    plt.show()"
   ]
  },
  {
   "cell_type": "code",
   "execution_count": 39,
   "id": "430d1cb0-d416-4ab7-98dd-7ea3274dedaf",
   "metadata": {},
   "outputs": [
    {
     "data": {
      "image/png": "[encoded data removed]",
      "text/plain": [
       "<Figure size 640x480 with 2 Axes>"
      ]
     },
     "metadata": {},
     "output_type": "display_data"
    }
   ],
   "source": [
    "create_confusion_matrix(data)"
   ]
  },
  {
   "cell_type": "code",
   "execution_count": null,
   "id": "50864617-c920-4587-ad7b-b1160dfd13e7",
   "metadata": {},
   "outputs": [],
   "source": [
    "## There are 5 which are invalid syntax when checked reamining out of 665 does not raise exceptions. Calculating their results"
   ]
  },
  {
   "cell_type": "code",
   "execution_count": 26,
   "id": "02f1402e-165d-4906-bafb-5ecc49d94a20",
   "metadata": {},
   "outputs": [],
   "source": [
    "from sklearn.metrics import confusion_matrix, accuracy_score, precision_score, recall_score, f1_score\n",
    "\n",
    "y_true = [1]*665\n",
    "y_pred = [1]*665\n",
    "y_pred[0:5] = [0]*5"
   ]
  },
  {
   "cell_type": "code",
   "execution_count": 27,
   "id": "ba32d047-eb9e-4665-b536-93a047d28db3",
   "metadata": {},
   "outputs": [
    {
     "name": "stdout",
     "output_type": "stream",
     "text": [
      "Confusion Matrix:\n",
      "[[  0   0]\n",
      " [  5 660]]\n"
     ]
    }
   ],
   "source": [
    "cm = confusion_matrix(y_true, y_pred, labels=[0, 1])\n",
    "print(\"Confusion Matrix:\")\n",
    "print(cm)"
   ]
  },
  {
   "cell_type": "code",
   "execution_count": 28,
   "id": "0f101017-fbde-4d16-924b-53682157dc01",
   "metadata": {},
   "outputs": [
    {
     "name": "stdout",
     "output_type": "stream",
     "text": [
      "Accuracy: 0.9925\n"
     ]
    }
   ],
   "source": [
    "accuracy = accuracy_score(y_true, y_pred)\n",
    "print(f\"Accuracy: {accuracy:.4f}\")"
   ]
  },
  {
   "cell_type": "code",
   "execution_count": 29,
   "id": "e53f61c1-9ae5-4fea-825a-c298a2ac8eef",
   "metadata": {},
   "outputs": [
    {
     "name": "stdout",
     "output_type": "stream",
     "text": [
      "Precision: 1.0000\n"
     ]
    }
   ],
   "source": [
    "precision = precision_score(y_true, y_pred, pos_label=1)\n",
    "print(f\"Precision: {precision:.4f}\")"
   ]
  },
  {
   "cell_type": "code",
   "execution_count": 30,
   "id": "62229c1a-4f3d-46a6-9812-29a1add75389",
   "metadata": {},
   "outputs": [
    {
     "name": "stdout",
     "output_type": "stream",
     "text": [
      "Recall: 0.9925\n"
     ]
    }
   ],
   "source": [
    "recall = recall_score(y_true, y_pred, pos_label=1)\n",
    "print(f\"Recall: {recall:.4f}\")"
   ]
  },
  {
   "cell_type": "code",
   "execution_count": 31,
   "id": "2c057f31-fa80-41ad-9032-b5bb193edec2",
   "metadata": {},
   "outputs": [
    {
     "name": "stdout",
     "output_type": "stream",
     "text": [
      "F1 Score: 0.9962\n"
     ]
    }
   ],
   "source": [
    "f1 = f1_score(y_true, y_pred, pos_label=1)\n",
    "print(f\"F1 Score: {f1:.4f}\")"
   ]
  },
  {
   "cell_type": "code",
   "execution_count": 33,
   "id": "30d90119-8328-469b-bed8-613c7887d099",
   "metadata": {},
   "outputs": [
    {
     "data": {
      "image/png": "[encoded data removed]",
      "text/plain": [
       "<Figure size 640x480 with 2 Axes>"
      ]
     },
     "metadata": {},
     "output_type": "display_data"
    }
   ],
   "source": [
    "cm = confusion_matrix(y_true, y_pred, labels=[1, 0])\n",
    "disp = ConfusionMatrixDisplay(confusion_matrix=cm, display_labels=['Correct', 'Incorrect'])\n",
    "    \n",
    "disp.plot(cmap=plt.cm.Blues)\n",
    "plt.savefig('confusion_matrix_sql.png')\n",
    "plt.show()"
   ]
  },
  {
   "cell_type": "code",
   "execution_count": null,
   "id": "a1c7c6ab-e776-4322-9ea4-ae2eb8ba7ce9",
   "metadata": {},
   "outputs": [],
   "source": []
  }
 ],
 "metadata": {
  "kernelspec": {
   "display_name": "Python 3 (ipykernel)",
   "language": "python",
   "name": "python3"
  },
  "language_info": {
   "codemirror_mode": {
    "name": "ipython",
    "version": 3
   },
   "file_extension": ".py",
   "mimetype": "text/x-python",
   "name": "python",
   "nbconvert_exporter": "python",
   "pygments_lexer": "ipython3",
   "version": "3.11.7"
  }
 },
 "nbformat": 4,
 "nbformat_minor": 5
}
