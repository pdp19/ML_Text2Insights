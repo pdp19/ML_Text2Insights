{
 "cells": [
  {
   "cell_type": "code",
   "execution_count": 2,
   "id": "d1071e33-fc48-4870-956f-db61c01570fb",
   "metadata": {},
   "outputs": [],
   "source": [
    "from collections import defaultdict\n",
    "def get_batter_runs(data):\n",
    "    batter_runs = defaultdict(int)\n",
    "    \n",
    "    for over in data:\n",
    "        for delivery in over[\"deliveries\"]:\n",
    "            batter = delivery[\"batter\"]\n",
    "            runs = delivery[\"runs\"][\"batter\"]\n",
    "            batter_runs[batter] += runs\n",
    "    \n",
    "    return batter_runs"
   ]
  },
  {
   "cell_type": "code",
   "execution_count": 43,
   "id": "aa58d5ea-2079-4423-a0fb-c4f4b36fe6f2",
   "metadata": {},
   "outputs": [],
   "source": [
    "import json\n",
    "\n",
    "def json_to_text(data):\n",
    "    team_names = list(data['info']['players'].keys())\n",
    "    team1 = team_names[0]\n",
    "    players1 = ', '.join(data['info']['players'][team1])\n",
    "    team2 = team_names[1]\n",
    "    players2 = ', '.join(data['info']['players'][team2])\n",
    "    team1 = team1 + \" (\" + ''.join(word[0].upper() for word in team1.split()) + \")\"\n",
    "    team2 = team2 + \" (\" + ''.join(word[0].upper() for word in team2.split()) + \")\"\n",
    "    outcome_keys = list(data.get('info', {}).get('outcome', {}).get('by', {}).keys())\n",
    "    outcome_description = outcome_keys[0] if outcome_keys else \"\"\n",
    "    player_of_match = data.get('info', {}).get('player_of_match', [None, None])[0]\n",
    "    teams = [data['inning'].get(\"team\") for data['inning'] in data.get(\"innings\", []) if \"team\" in data['inning']]\n",
    "    first_innings_runs = get_batter_runs(data.get('innings',[None])[0].get('overs',{}))\n",
    "    second_innings_runs = get_batter_runs(data.get('innings',[None])[1].get('overs',{}))  if len(data.get('innings', [])) > 1 else None\n",
    "    first_innings_text = \"\"\n",
    "    if first_innings_runs:\n",
    "        for batter, runs in first_innings_runs.items():\n",
    "            first_innings_text += f\" {batter} has scored {runs} runs, \"\n",
    "    second_innings_text = \"\"\n",
    "    if second_innings_runs:\n",
    "        for batter, runs in second_innings_runs.items():\n",
    "            second_innings_text += f\" {batter} has scored {runs} runs, \"\n",
    "            \n",
    "        \n",
    "    text = \" Cricket match played on \" + str(data.get('info', {}).get('dates', [None])[0]) + \\\n",
    "                \" at city \" + str(data.get('info', {}).get('city', None)) + \\\n",
    "                \" between \" + team1 + \" and \" + team2 + \", toss is won by \" + str(data.get('info', {}).get('toss', {}).get('winner', None)) + \\\n",
    "                \" and they have decided to \" + str(data.get('info', {}).get('toss', {}).get('decision', None)) + \\\n",
    "                \" Winner of the match is \" + str(data.get('info', {}).get('outcome', {}).get('winner', None)) + \\\n",
    "                \" they won by \" + str(data.get('info', {}).get('outcome', {}).get('by', {}).get('runs', \"\")) + str(data.get('info', {}).get('outcome', {}).get('by', {}).get('wickets', \"\")) + \\\n",
    "                \" \" + outcome_description + \", and Player of the match is \" + str(player_of_match) + \".\" + \\\n",
    "                \". First Inning is played by \" + teams[0] + \" and they have set the target of \" + str(data.get('inning', {}).get('target', {}).get('runs', None)) + \\\n",
    "                \". First Inning batsman has scorred runs as follows: \" + first_innings_text + \\\n",
    "                \". Second Inning batsman has scorred runs as follows: \" + second_innings_text + \".\"\n",
    "    return text\n"
   ]
  },
  {
   "cell_type": "code",
   "execution_count": 44,
   "id": "247ed4d6-8bc7-4aaa-b21d-fe5f42a7795a",
   "metadata": {},
   "outputs": [],
   "source": [
    "import random\n",
    "def get_question_1(data):\n",
    "    text = \"Who has played the match?\"\n",
    "    return text\n",
    "def get_question_2(data):\n",
    "    text = \"Who won the match?\"\n",
    "    return text\n",
    "def get_question_3(data):\n",
    "    text = \"Who won the player of the match?\"\n",
    "    return text\n",
    "def get_question_4(data):\n",
    "    text = \"Who has scorred most runs in the match?\"\n",
    "    return text\n",
    "def get_question_5(data, batter):\n",
    "    text = \"How many runs has scorred by \" + batter + \"?\"\n",
    "    return text\n",
    "def get_question_6(data):\n",
    "    text = \"What is the target set by team?\"\n",
    "    return text\n",
    "def get_question_7(data):\n",
    "    text = \"Who won the toss of the match?\"\n",
    "    return text\n",
    "def get_question_8(data):\n",
    "    text = \"What was the maximum runs scorred by individual player in the match?\"\n",
    "    return text"
   ]
  },
  {
   "cell_type": "code",
   "execution_count": 45,
   "id": "9cdfad47-9107-4789-821f-3282834ef8ca",
   "metadata": {},
   "outputs": [],
   "source": [
    "def get_answers_1(data):\n",
    "    team_names = list(data['info']['players'].keys())\n",
    "    team1 = team_names[0]\n",
    "    team2 = team_names[1]\n",
    "    text = team1 + \" and \" + team2\n",
    "    return text\n",
    "def get_answers_2(data):\n",
    "    text = str(data.get('info', {}).get('outcome', {}).get('winner', None))\n",
    "    return text\n",
    "def get_answers_3(data):\n",
    "    text = str(data.get('info', {}).get('player_of_match', [None, None])[0])\n",
    "    return text\n",
    "def get_answers_4(data, max_batter):\n",
    "    text = max_batter\n",
    "    return text\n",
    "def get_answers_5(data, runs):\n",
    "    text = str(runs)\n",
    "    return text\n",
    "def get_answers_6(data):\n",
    "    text = str(data.get('inning', {}).get('target', {}).get('runs', None))\n",
    "    return text\n",
    "def get_answers_7(data):\n",
    "    text = str(data.get('info', {}).get('toss', {}).get('winner', None))\n",
    "    return text\n",
    "def get_answers_8(data, runs):\n",
    "    text = str(runs)\n",
    "    return text"
   ]
  },
  {
   "cell_type": "code",
   "execution_count": 46,
   "id": "8491cc71-a28e-4deb-8dc8-894e53e10303",
   "metadata": {},
   "outputs": [],
   "source": [
    "import os\n",
    "\n",
    "def read_json_files(directory):\n",
    "    data = []\n",
    "    for filename in os.listdir(directory):\n",
    "        if filename.endswith('.json'):\n",
    "            filepath = os.path.join(directory, filename)\n",
    "            with open(filepath, 'r') as file:\n",
    "                json_data = json.load(file)\n",
    "                # season = str(json_data.get('info', {}).get('season', None))\n",
    "                # seasons = ['2024','2023','2022','2021']\n",
    "                # if season in seasons:\n",
    "                value = json_to_text(json_data)\n",
    "                question_1 = get_question_1(json_data)\n",
    "                answer_1 = get_answers_1(json_data)\n",
    "                question_2 = get_question_2(json_data)\n",
    "                answer_2 = get_answers_2(json_data)\n",
    "                question_3 = get_question_3(json_data)\n",
    "                answer_3 = get_answers_3(json_data)\n",
    "                first_innings_runs = get_batter_runs(json_data.get('innings',[None])[0].get('overs',{}))\n",
    "                second_innings_runs = get_batter_runs(json_data.get('innings',[None])[1].get('overs',{}))  if len(json_data.get('innings', [])) > 1 else None\n",
    "                if first_innings_runs is None:\n",
    "                    first_innings_runs = {}\n",
    "                if second_innings_runs is None:\n",
    "                    second_innings_runs = {}\n",
    "                combined_runs = {**first_innings_runs, **second_innings_runs}\n",
    "                random_batter = random.choice(list(combined_runs.keys()))\n",
    "                random_batter_score = combined_runs[random_batter]\n",
    "                max_batter = max(combined_runs, key=combined_runs.get)\n",
    "                max_runs = combined_runs[max_batter]\n",
    "                question_4 = get_question_4(json_data)\n",
    "                answer_4 = get_answers_4(json_data, max_batter)\n",
    "                question_5 = get_question_5(json_data, random_batter)\n",
    "                answer_5 = get_answers_5(json_data, random_batter_score)\n",
    "                question_6 = get_question_6(json_data)\n",
    "                answer_6 = get_answers_6(json_data)\n",
    "                question_7 = get_question_7(json_data)\n",
    "                answer_7 = get_answers_7(json_data)\n",
    "                question_8 = get_question_8(json_data)\n",
    "                answer_8 = get_answers_8(json_data, max_runs)\n",
    "                data.append({'Filename': filename, 'context': value, 'Question_1': question_1, 'Answer_1': answer_1\n",
    "                                    , 'Question_2': question_2, 'Answer_2': answer_2\n",
    "                                    , 'Question_3': question_3, 'Answer_3': answer_3\n",
    "                                    , 'Question_4': question_4, 'Answer_4': answer_4\n",
    "                                    , 'Question_5': question_5, 'Answer_5': answer_5\n",
    "                                    , 'Question_6': question_6, 'Answer_6': answer_6\n",
    "                                    , 'Question_7': question_7, 'Answer_7': answer_7\n",
    "                                    , 'Question_8': question_8, 'Answer_8': answer_8})\n",
    "    return data"
   ]
  },
  {
   "cell_type": "code",
   "execution_count": 47,
   "id": "aa8e422c-bbbb-437c-a05f-5f26b575a924",
   "metadata": {},
   "outputs": [],
   "source": [
    "import csv\n",
    "\n",
    "def write_to_csv(data, output_file):\n",
    "    with open(output_file, 'w', newline='') as csvfile:\n",
    "        fieldnames = ['Filename', 'context', 'Question_1', 'Answer_1'\n",
    "                     , 'Question_2', 'Answer_2'\n",
    "                     , 'Question_3', 'Answer_3'\n",
    "                     , 'Question_4', 'Answer_4'\n",
    "                     , 'Question_5', 'Answer_5'\n",
    "                     , 'Question_6', 'Answer_6'\n",
    "                     , 'Question_7', 'Answer_7'\n",
    "                     , 'Question_8', 'Answer_8']\n",
    "        writer = csv.DictWriter(csvfile, fieldnames=fieldnames)\n",
    "        writer.writeheader()\n",
    "        for row in data:\n",
    "            writer.writerow(row)"
   ]
  },
  {
   "cell_type": "code",
   "execution_count": 48,
   "id": "90dbea77-3fc8-4da9-9622-fcf36cf48161",
   "metadata": {},
   "outputs": [],
   "source": [
    "json_directory = 'ipl_json'\n",
    "csv_output_file = 'question_and_aanswer_context_text_data.csv'"
   ]
  },
  {
   "cell_type": "code",
   "execution_count": 49,
   "id": "e760b46d-a041-488c-b396-41abb9179aa5",
   "metadata": {},
   "outputs": [],
   "source": [
    "data = read_json_files(json_directory)\n",
    "write_to_csv(data, csv_output_file)"
   ]
  },
  {
   "cell_type": "code",
   "execution_count": 50,
   "id": "4793a84a-8e3b-40dc-b1db-cc4901230296",
   "metadata": {},
   "outputs": [
    {
     "data": {
      "text/html": [
       "<div>\n",
       "<style scoped>\n",
       "    .dataframe tbody tr th:only-of-type {\n",
       "        vertical-align: middle;\n",
       "    }\n",
       "\n",
       "    .dataframe tbody tr th {\n",
       "        vertical-align: top;\n",
       "    }\n",
       "\n",
       "    .dataframe thead th {\n",
       "        text-align: right;\n",
       "    }\n",
       "</style>\n",
       "<table border=\"1\" class=\"dataframe\">\n",
       "  <thead>\n",
       "    <tr style=\"text-align: right;\">\n",
       "      <th></th>\n",
       "      <th>Filename</th>\n",
       "      <th>context</th>\n",
       "      <th>Question_1</th>\n",
       "      <th>Answer_1</th>\n",
       "      <th>Question_2</th>\n",
       "      <th>Answer_2</th>\n",
       "      <th>Question_3</th>\n",
       "      <th>Answer_3</th>\n",
       "      <th>Question_4</th>\n",
       "      <th>Answer_4</th>\n",
       "      <th>Question_5</th>\n",
       "      <th>Answer_5</th>\n",
       "      <th>Question_6</th>\n",
       "      <th>Answer_6</th>\n",
       "      <th>Question_7</th>\n",
       "      <th>Answer_7</th>\n",
       "      <th>Question_8</th>\n",
       "      <th>Answer_8</th>\n",
       "    </tr>\n",
       "  </thead>\n",
       "  <tbody>\n",
       "    <tr>\n",
       "      <th>0</th>\n",
       "      <td>1426261.json</td>\n",
       "      <td>Cricket match played on 2024-04-09 at city Mo...</td>\n",
       "      <td>Who has played the match?</td>\n",
       "      <td>Sunrisers Hyderabad and Punjab Kings</td>\n",
       "      <td>Who won the match?</td>\n",
       "      <td>Sunrisers Hyderabad</td>\n",
       "      <td>Who won the player of the match?</td>\n",
       "      <td>Nithish Kumar Reddy</td>\n",
       "      <td>Who has scorred most runs in the match?</td>\n",
       "      <td>Nithish Kumar Reddy</td>\n",
       "      <td>How many runs has scorred by PJ Cummins?</td>\n",
       "      <td>3</td>\n",
       "      <td>What is the target set by team?</td>\n",
       "      <td>183.0</td>\n",
       "      <td>Who won the toss of the match?</td>\n",
       "      <td>Punjab Kings</td>\n",
       "      <td>What was the maximum runs scorred by individua...</td>\n",
       "      <td>64</td>\n",
       "    </tr>\n",
       "    <tr>\n",
       "      <th>1</th>\n",
       "      <td>1359507.json</td>\n",
       "      <td>Cricket match played on 2023-04-23 at city Ko...</td>\n",
       "      <td>Who has played the match?</td>\n",
       "      <td>Chennai Super Kings and Kolkata Knight Riders</td>\n",
       "      <td>Who won the match?</td>\n",
       "      <td>Chennai Super Kings</td>\n",
       "      <td>Who won the player of the match?</td>\n",
       "      <td>AM Rahane</td>\n",
       "      <td>Who has scorred most runs in the match?</td>\n",
       "      <td>AM Rahane</td>\n",
       "      <td>How many runs has scorred by AM Rahane?</td>\n",
       "      <td>71</td>\n",
       "      <td>What is the target set by team?</td>\n",
       "      <td>236.0</td>\n",
       "      <td>Who won the toss of the match?</td>\n",
       "      <td>Kolkata Knight Riders</td>\n",
       "      <td>What was the maximum runs scorred by individua...</td>\n",
       "      <td>71</td>\n",
       "    </tr>\n",
       "    <tr>\n",
       "      <th>2</th>\n",
       "      <td>392217.json</td>\n",
       "      <td>Cricket match played on 2009-05-09 at city Ki...</td>\n",
       "      <td>Who has played the match?</td>\n",
       "      <td>Chennai Super Kings and Rajasthan Royals</td>\n",
       "      <td>Who won the match?</td>\n",
       "      <td>Chennai Super Kings</td>\n",
       "      <td>Who won the player of the match?</td>\n",
       "      <td>S Badrinath</td>\n",
       "      <td>Who has scorred most runs in the match?</td>\n",
       "      <td>S Badrinath</td>\n",
       "      <td>How many runs has scorred by NV Ojha?</td>\n",
       "      <td>0</td>\n",
       "      <td>What is the target set by team?</td>\n",
       "      <td>141.0</td>\n",
       "      <td>Who won the toss of the match?</td>\n",
       "      <td>Rajasthan Royals</td>\n",
       "      <td>What was the maximum runs scorred by individua...</td>\n",
       "      <td>59</td>\n",
       "    </tr>\n",
       "    <tr>\n",
       "      <th>3</th>\n",
       "      <td>1254112.json</td>\n",
       "      <td>Cricket match played on 2021-10-02 at city Sh...</td>\n",
       "      <td>Who has played the match?</td>\n",
       "      <td>Mumbai Indians and Delhi Capitals</td>\n",
       "      <td>Who won the match?</td>\n",
       "      <td>Delhi Capitals</td>\n",
       "      <td>Who won the player of the match?</td>\n",
       "      <td>AR Patel</td>\n",
       "      <td>Who has scorred most runs in the match?</td>\n",
       "      <td>SA Yadav</td>\n",
       "      <td>How many runs has scorred by NM Coulter-Nile?</td>\n",
       "      <td>1</td>\n",
       "      <td>What is the target set by team?</td>\n",
       "      <td>130.0</td>\n",
       "      <td>Who won the toss of the match?</td>\n",
       "      <td>Delhi Capitals</td>\n",
       "      <td>What was the maximum runs scorred by individua...</td>\n",
       "      <td>33</td>\n",
       "    </tr>\n",
       "    <tr>\n",
       "      <th>4</th>\n",
       "      <td>829817.json</td>\n",
       "      <td>Cricket match played on 2015-05-19 at city Mu...</td>\n",
       "      <td>Who has played the match?</td>\n",
       "      <td>Chennai Super Kings and Mumbai Indians</td>\n",
       "      <td>Who won the match?</td>\n",
       "      <td>Mumbai Indians</td>\n",
       "      <td>Who won the player of the match?</td>\n",
       "      <td>KA Pollard</td>\n",
       "      <td>Who has scorred most runs in the match?</td>\n",
       "      <td>LMP Simmons</td>\n",
       "      <td>How many runs has scorred by A Nehra?</td>\n",
       "      <td>0</td>\n",
       "      <td>What is the target set by team?</td>\n",
       "      <td>188.0</td>\n",
       "      <td>Who won the toss of the match?</td>\n",
       "      <td>Mumbai Indians</td>\n",
       "      <td>What was the maximum runs scorred by individua...</td>\n",
       "      <td>65</td>\n",
       "    </tr>\n",
       "  </tbody>\n",
       "</table>\n",
       "</div>"
      ],
      "text/plain": [
       "       Filename                                            context  \\\n",
       "0  1426261.json   Cricket match played on 2024-04-09 at city Mo...   \n",
       "1  1359507.json   Cricket match played on 2023-04-23 at city Ko...   \n",
       "2   392217.json   Cricket match played on 2009-05-09 at city Ki...   \n",
       "3  1254112.json   Cricket match played on 2021-10-02 at city Sh...   \n",
       "4   829817.json   Cricket match played on 2015-05-19 at city Mu...   \n",
       "\n",
       "                  Question_1                                       Answer_1  \\\n",
       "0  Who has played the match?           Sunrisers Hyderabad and Punjab Kings   \n",
       "1  Who has played the match?  Chennai Super Kings and Kolkata Knight Riders   \n",
       "2  Who has played the match?       Chennai Super Kings and Rajasthan Royals   \n",
       "3  Who has played the match?              Mumbai Indians and Delhi Capitals   \n",
       "4  Who has played the match?         Chennai Super Kings and Mumbai Indians   \n",
       "\n",
       "           Question_2             Answer_2                        Question_3  \\\n",
       "0  Who won the match?  Sunrisers Hyderabad  Who won the player of the match?   \n",
       "1  Who won the match?  Chennai Super Kings  Who won the player of the match?   \n",
       "2  Who won the match?  Chennai Super Kings  Who won the player of the match?   \n",
       "3  Who won the match?       Delhi Capitals  Who won the player of the match?   \n",
       "4  Who won the match?       Mumbai Indians  Who won the player of the match?   \n",
       "\n",
       "              Answer_3                               Question_4  \\\n",
       "0  Nithish Kumar Reddy  Who has scorred most runs in the match?   \n",
       "1            AM Rahane  Who has scorred most runs in the match?   \n",
       "2          S Badrinath  Who has scorred most runs in the match?   \n",
       "3             AR Patel  Who has scorred most runs in the match?   \n",
       "4           KA Pollard  Who has scorred most runs in the match?   \n",
       "\n",
       "              Answer_4                                     Question_5  \\\n",
       "0  Nithish Kumar Reddy       How many runs has scorred by PJ Cummins?   \n",
       "1            AM Rahane        How many runs has scorred by AM Rahane?   \n",
       "2          S Badrinath          How many runs has scorred by NV Ojha?   \n",
       "3             SA Yadav  How many runs has scorred by NM Coulter-Nile?   \n",
       "4          LMP Simmons          How many runs has scorred by A Nehra?   \n",
       "\n",
       "   Answer_5                       Question_6  Answer_6  \\\n",
       "0         3  What is the target set by team?     183.0   \n",
       "1        71  What is the target set by team?     236.0   \n",
       "2         0  What is the target set by team?     141.0   \n",
       "3         1  What is the target set by team?     130.0   \n",
       "4         0  What is the target set by team?     188.0   \n",
       "\n",
       "                       Question_7               Answer_7  \\\n",
       "0  Who won the toss of the match?           Punjab Kings   \n",
       "1  Who won the toss of the match?  Kolkata Knight Riders   \n",
       "2  Who won the toss of the match?       Rajasthan Royals   \n",
       "3  Who won the toss of the match?         Delhi Capitals   \n",
       "4  Who won the toss of the match?         Mumbai Indians   \n",
       "\n",
       "                                          Question_8  Answer_8  \n",
       "0  What was the maximum runs scorred by individua...        64  \n",
       "1  What was the maximum runs scorred by individua...        71  \n",
       "2  What was the maximum runs scorred by individua...        59  \n",
       "3  What was the maximum runs scorred by individua...        33  \n",
       "4  What was the maximum runs scorred by individua...        65  "
      ]
     },
     "execution_count": 50,
     "metadata": {},
     "output_type": "execute_result"
    }
   ],
   "source": [
    "import pandas as pd\n",
    "df = pd.read_csv(csv_output_file)\n",
    "df.head()"
   ]
  },
  {
   "cell_type": "code",
   "execution_count": 51,
   "id": "57f37327-1d2e-4adb-bc35-765ba071b261",
   "metadata": {},
   "outputs": [
    {
     "data": {
      "text/plain": [
       "'Sunrisers Hyderabad and Punjab Kings'"
      ]
     },
     "execution_count": 51,
     "metadata": {},
     "output_type": "execute_result"
    }
   ],
   "source": [
    "df['Answer_1'][0]"
   ]
  },
  {
   "cell_type": "code",
   "execution_count": 52,
   "id": "3710ef8f-71a2-4781-b895-5e0f6315fba2",
   "metadata": {},
   "outputs": [
    {
     "data": {
      "text/plain": [
       "(1093, 18)"
      ]
     },
     "execution_count": 52,
     "metadata": {},
     "output_type": "execute_result"
    }
   ],
   "source": [
    "df.shape"
   ]
  },
  {
   "cell_type": "code",
   "execution_count": 53,
   "id": "d39399c3-f728-410b-bdd1-7118535dc604",
   "metadata": {},
   "outputs": [
    {
     "data": {
      "text/plain": [
       "807"
      ]
     },
     "execution_count": 53,
     "metadata": {},
     "output_type": "execute_result"
    }
   ],
   "source": [
    "len(df['context'][5])"
   ]
  },
  {
   "cell_type": "code",
   "execution_count": 54,
   "id": "d6329612-1f64-4b21-a5f4-04d45c342d70",
   "metadata": {},
   "outputs": [
    {
     "data": {
      "text/plain": [
       "Index(['Filename', 'context', 'Question_1', 'Answer_1', 'Question_2',\n",
       "       'Answer_2', 'Question_3', 'Answer_3', 'Question_4', 'Answer_4',\n",
       "       'Question_5', 'Answer_5', 'Question_6', 'Answer_6', 'Question_7',\n",
       "       'Answer_7', 'Question_8', 'Answer_8'],\n",
       "      dtype='object')"
      ]
     },
     "execution_count": 54,
     "metadata": {},
     "output_type": "execute_result"
    }
   ],
   "source": [
    "df.columns"
   ]
  },
  {
   "cell_type": "code",
   "execution_count": 55,
   "id": "b283bdf7-dbae-4502-b05c-2fcf40094302",
   "metadata": {},
   "outputs": [],
   "source": [
    "#Merge all question answers\n",
    "import pandas as pd\n",
    "new_rows = []\n",
    "for index, row in df.iterrows():\n",
    "    filename = row['Filename']\n",
    "    context = row['context']\n",
    "\n",
    "    if pd.notna(row['Question_1']) and pd.notna(row['Answer_1']):\n",
    "        new_rows.append({'Filename': filename, 'context': context, 'question': row['Question_1'], 'answer': row['Answer_1']})\n",
    "    \n",
    "    if pd.notna(row['Question_2']) and pd.notna(row['Answer_2']):\n",
    "        new_rows.append({'Filename': filename, 'context': context, 'question': row['Question_2'], 'answer': row['Answer_2']})\n",
    "    \n",
    "    if pd.notna(row['Question_3']) and pd.notna(row['Answer_3']):\n",
    "        new_rows.append({'Filename': filename, 'context': context, 'question': row['Question_3'], 'answer': row['Answer_3']})\n",
    "\n",
    "    if pd.notna(row['Question_4']) and pd.notna(row['Answer_4']):\n",
    "        new_rows.append({'Filename': filename, 'context': context, 'question': row['Question_4'], 'answer': row['Answer_4']})\n",
    "    \n",
    "    if pd.notna(row['Question_5']) and pd.notna(row['Answer_5']):\n",
    "        new_rows.append({'Filename': filename, 'context': context, 'question': row['Question_5'], 'answer': row['Answer_5']})\n",
    "\n",
    "    if pd.notna(row['Question_6']) and pd.notna(row['Answer_6']):\n",
    "            new_rows.append({'Filename': filename, 'context': context, 'question': row['Question_6'], 'answer': row['Answer_6']})\n",
    "    \n",
    "    if pd.notna(row['Question_7']) and pd.notna(row['Answer_7']):\n",
    "            new_rows.append({'Filename': filename, 'context': context, 'question': row['Question_7'], 'answer': row['Answer_7']})\n",
    "    \n",
    "    if pd.notna(row['Question_8']) and pd.notna(row['Answer_8']):\n",
    "            new_rows.append({'Filename': filename, 'context': context, 'question': row['Question_8'], 'answer': row['Answer_8']})\n",
    "\n",
    "\n",
    "new_df = pd.DataFrame(new_rows)"
   ]
  },
  {
   "cell_type": "code",
   "execution_count": 56,
   "id": "a9f3d1a7-aefa-43f8-9708-3e82ae7a6ead",
   "metadata": {},
   "outputs": [],
   "source": [
    "file_name = 'questions_answers_data.csv'\n",
    "new_df.to_csv(file_name)"
   ]
  },
  {
   "cell_type": "code",
   "execution_count": 57,
   "id": "c102a429-67df-40f7-8e04-1257d8529f58",
   "metadata": {},
   "outputs": [],
   "source": [
    "# file_name_complete = 'updated_questions_answers_complete.csv'\n",
    "# new_df.to_csv(file_name_complete)"
   ]
  },
  {
   "cell_type": "code",
   "execution_count": 58,
   "id": "d6c61b9d-cea5-4c96-b1aa-c254f310001c",
   "metadata": {},
   "outputs": [
    {
     "data": {
      "text/plain": [
       "(8703, 4)"
      ]
     },
     "execution_count": 58,
     "metadata": {},
     "output_type": "execute_result"
    }
   ],
   "source": [
    "new_df.shape"
   ]
  },
  {
   "cell_type": "code",
   "execution_count": 59,
   "id": "087a59c6-1c18-45f4-9929-a02e5373e61c",
   "metadata": {},
   "outputs": [
    {
     "data": {
      "text/html": [
       "<div>\n",
       "<style scoped>\n",
       "    .dataframe tbody tr th:only-of-type {\n",
       "        vertical-align: middle;\n",
       "    }\n",
       "\n",
       "    .dataframe tbody tr th {\n",
       "        vertical-align: top;\n",
       "    }\n",
       "\n",
       "    .dataframe thead th {\n",
       "        text-align: right;\n",
       "    }\n",
       "</style>\n",
       "<table border=\"1\" class=\"dataframe\">\n",
       "  <thead>\n",
       "    <tr style=\"text-align: right;\">\n",
       "      <th></th>\n",
       "      <th>Filename</th>\n",
       "      <th>context</th>\n",
       "      <th>question</th>\n",
       "      <th>answer</th>\n",
       "    </tr>\n",
       "  </thead>\n",
       "  <tbody>\n",
       "    <tr>\n",
       "      <th>0</th>\n",
       "      <td>1426261.json</td>\n",
       "      <td>Cricket match played on 2024-04-09 at city Mo...</td>\n",
       "      <td>Who has played the match?</td>\n",
       "      <td>Sunrisers Hyderabad and Punjab Kings</td>\n",
       "    </tr>\n",
       "    <tr>\n",
       "      <th>1</th>\n",
       "      <td>1426261.json</td>\n",
       "      <td>Cricket match played on 2024-04-09 at city Mo...</td>\n",
       "      <td>Who won the match?</td>\n",
       "      <td>Sunrisers Hyderabad</td>\n",
       "    </tr>\n",
       "    <tr>\n",
       "      <th>2</th>\n",
       "      <td>1426261.json</td>\n",
       "      <td>Cricket match played on 2024-04-09 at city Mo...</td>\n",
       "      <td>Who won the player of the match?</td>\n",
       "      <td>Nithish Kumar Reddy</td>\n",
       "    </tr>\n",
       "    <tr>\n",
       "      <th>3</th>\n",
       "      <td>1426261.json</td>\n",
       "      <td>Cricket match played on 2024-04-09 at city Mo...</td>\n",
       "      <td>Who has scorred most runs in the match?</td>\n",
       "      <td>Nithish Kumar Reddy</td>\n",
       "    </tr>\n",
       "    <tr>\n",
       "      <th>4</th>\n",
       "      <td>1426261.json</td>\n",
       "      <td>Cricket match played on 2024-04-09 at city Mo...</td>\n",
       "      <td>How many runs has scorred by PJ Cummins?</td>\n",
       "      <td>3</td>\n",
       "    </tr>\n",
       "  </tbody>\n",
       "</table>\n",
       "</div>"
      ],
      "text/plain": [
       "       Filename                                            context  \\\n",
       "0  1426261.json   Cricket match played on 2024-04-09 at city Mo...   \n",
       "1  1426261.json   Cricket match played on 2024-04-09 at city Mo...   \n",
       "2  1426261.json   Cricket match played on 2024-04-09 at city Mo...   \n",
       "3  1426261.json   Cricket match played on 2024-04-09 at city Mo...   \n",
       "4  1426261.json   Cricket match played on 2024-04-09 at city Mo...   \n",
       "\n",
       "                                   question  \\\n",
       "0                 Who has played the match?   \n",
       "1                        Who won the match?   \n",
       "2          Who won the player of the match?   \n",
       "3   Who has scorred most runs in the match?   \n",
       "4  How many runs has scorred by PJ Cummins?   \n",
       "\n",
       "                                 answer  \n",
       "0  Sunrisers Hyderabad and Punjab Kings  \n",
       "1                   Sunrisers Hyderabad  \n",
       "2                   Nithish Kumar Reddy  \n",
       "3                   Nithish Kumar Reddy  \n",
       "4                                     3  "
      ]
     },
     "execution_count": 59,
     "metadata": {},
     "output_type": "execute_result"
    }
   ],
   "source": [
    "new_df.head()"
   ]
  },
  {
   "cell_type": "code",
   "execution_count": 60,
   "id": "cb693ee9-9a3d-4f51-8b83-980c7dfc8c22",
   "metadata": {},
   "outputs": [
    {
     "name": "stdout",
     "output_type": "stream",
     "text": [
      "<class 'pandas.core.frame.DataFrame'>\n",
      "RangeIndex: 8703 entries, 0 to 8702\n",
      "Data columns (total 4 columns):\n",
      " #   Column    Non-Null Count  Dtype \n",
      "---  ------    --------------  ----- \n",
      " 0   Filename  8703 non-null   object\n",
      " 1   context   8703 non-null   object\n",
      " 2   question  8703 non-null   object\n",
      " 3   answer    8703 non-null   object\n",
      "dtypes: object(4)\n",
      "memory usage: 272.1+ KB\n"
     ]
    }
   ],
   "source": [
    "new_df.info()"
   ]
  },
  {
   "cell_type": "code",
   "execution_count": 61,
   "id": "4c6de39c-3e10-451e-82a4-ba34a272d283",
   "metadata": {},
   "outputs": [
    {
     "data": {
      "text/plain": [
       "' Cricket match played on 2008-05-17 at city Delhi between Delhi Daredevils (DD) and Kings XI Punjab (KXP), toss is won by Delhi Daredevils and they have decided to bat Winner of the match is Kings XI Punjab they won by 6 runs, and Player of the match is DPMD Jayawardene.. First Inning is played by Delhi Daredevils and they have set the target of 89. First Inning batsman has scorred runs as follows:  G Gambhir has scored 40 runs,  V Sehwag has scored 51 runs,  S Dhawan has scored 8 runs,  TM Dilshan has scored 8 runs,  MF Maharoof has scored 0 runs,  Shoaib Malik has scored 1 runs, . Second Inning batsman has scorred runs as follows:  SE Marsh has scored 2 runs,  JR Hopes has scored 4 runs,  Yuvraj Singh has scored 23 runs,  LA Pomersbach has scored 25 runs,  DPMD Jayawardene has scored 36 runs, .'"
      ]
     },
     "execution_count": 61,
     "metadata": {},
     "output_type": "execute_result"
    }
   ],
   "source": [
    "df['context'][5]"
   ]
  },
  {
   "cell_type": "code",
   "execution_count": null,
   "id": "21061651-cec9-4621-a319-985f1f9425d7",
   "metadata": {},
   "outputs": [],
   "source": []
  },
  {
   "cell_type": "code",
   "execution_count": null,
   "id": "b58f974e-3fcc-43b6-81de-5499289081b4",
   "metadata": {},
   "outputs": [],
   "source": []
  }
 ],
 "metadata": {
  "kernelspec": {
   "display_name": "Python 3 (ipykernel)",
   "language": "python",
   "name": "python3"
  },
  "language_info": {
   "codemirror_mode": {
    "name": "ipython",
    "version": 3
   },
   "file_extension": ".py",
   "mimetype": "text/x-python",
   "name": "python",
   "nbconvert_exporter": "python",
   "pygments_lexer": "ipython3",
   "version": "3.11.7"
  }
 },
 "nbformat": 4,
 "nbformat_minor": 5
}
